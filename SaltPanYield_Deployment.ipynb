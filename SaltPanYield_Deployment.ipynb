{
 "cells": [
  {
   "cell_type": "code",
   "execution_count": null,
   "id": "669a4285-efbe-43d5-80db-5a8edab985f9",
   "metadata": {},
   "outputs": [],
   "source": [
    "#-------Deployment Phas -------#"
   ]
  },
  {
   "cell_type": "code",
   "execution_count": 2,
   "id": "43061e55-aa14-429e-bd4e-02872fdfb245",
   "metadata": {},
   "outputs": [],
   "source": [
    "import pickle"
   ]
  },
  {
   "cell_type": "code",
   "execution_count": 3,
   "id": "a5e23c41-158e-4487-824e-063cde939776",
   "metadata": {},
   "outputs": [],
   "source": [
    "loaded_model=pickle.load(open('final_salt_yield.sav','rb'))"
   ]
  },
  {
   "cell_type": "code",
   "execution_count": null,
   "id": "386c2a97-043d-40f1-b635-d9f1261e1bde",
   "metadata": {},
   "outputs": [],
   "source": [
    "#------Get Inputs------#\n",
    "#------Prediction------#\n",
    "#------Call To Action------#"
   ]
  },
  {
   "cell_type": "code",
   "execution_count": 4,
   "id": "882681b8-7887-4cf0-8a2c-e4b657650f45",
   "metadata": {},
   "outputs": [
    {
     "name": "stderr",
     "output_type": "stream",
     "text": [
      "C:\\Users\\rampr\\anaconda3\\Lib\\site-packages\\sklearn\\utils\\validation.py:2739: UserWarning: X does not have valid feature names, but LinearRegression was fitted with feature names\n",
      "  warnings.warn(\n"
     ]
    }
   ],
   "source": [
    "Salt_Pan_Yield=loaded_model.predict([[2185.4,1.165,15.1,24.2,7.9,855,1]])"
   ]
  },
  {
   "cell_type": "code",
   "execution_count": 5,
   "id": "2b2c4001-7a26-4f7d-afed-1fc55f82f3b8",
   "metadata": {},
   "outputs": [
    {
     "data": {
      "text/plain": [
       "array([[0.80394168]])"
      ]
     },
     "execution_count": 5,
     "metadata": {},
     "output_type": "execute_result"
    }
   ],
   "source": [
    "Salt_Pan_Yield"
   ]
  }
 ],
 "metadata": {
  "kernelspec": {
   "display_name": "Python [conda env:base] *",
   "language": "python",
   "name": "conda-base-py"
  },
  "language_info": {
   "codemirror_mode": {
    "name": "ipython",
    "version": 3
   },
   "file_extension": ".py",
   "mimetype": "text/x-python",
   "name": "python",
   "nbconvert_exporter": "python",
   "pygments_lexer": "ipython3",
   "version": "3.13.5"
  }
 },
 "nbformat": 4,
 "nbformat_minor": 5
}
